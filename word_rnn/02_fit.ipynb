{
 "cells": [
  {
   "cell_type": "code",
   "execution_count": 1,
   "metadata": {},
   "outputs": [],
   "source": [
    "from numpy import array\n",
    "from pickle import dump\n",
    "from tensorflow.keras.preprocessing.text import Tokenizer\n",
    "from tensorflow.keras.utils import to_categorical\n",
    "from tensorflow.keras.models import Sequential\n",
    "from tensorflow.keras.layers import Embedding, LSTM, Dense\n",
    "from tensorflow.keras.callbacks import EarlyStopping"
   ]
  },
  {
   "cell_type": "code",
   "execution_count": 2,
   "metadata": {},
   "outputs": [],
   "source": [
    "# load doc into memory\n",
    "def load_sequences(filename):\n",
    "    # open the file as read only\n",
    "    file = open(filename, 'r')\n",
    "    # read all text\n",
    "    text = file.read()\n",
    "    # close the file\n",
    "    file.close()\n",
    "    return text"
   ]
  },
  {
   "cell_type": "code",
   "execution_count": 3,
   "metadata": {},
   "outputs": [],
   "source": [
    "# load\n",
    "in_filename = 'data/trump_sequences.txt'\n",
    "doc = load_sequences(in_filename)\n",
    "lines = doc.split('\\n')"
   ]
  },
  {
   "cell_type": "code",
   "execution_count": null,
   "metadata": {},
   "outputs": [],
   "source": []
  },
  {
   "cell_type": "code",
   "execution_count": 3,
   "metadata": {},
   "outputs": [
    {
     "name": "stdout",
     "output_type": "stream",
     "text": [
      "Model: \"sequential\"\n",
      "_________________________________________________________________\n",
      "Layer (type)                 Output Shape              Param #   \n",
      "=================================================================\n",
      "embedding (Embedding)        (None, 50, 50)            515250    \n",
      "_________________________________________________________________\n",
      "lstm (LSTM)                  (None, 50, 256)           314368    \n",
      "_________________________________________________________________\n",
      "lstm_1 (LSTM)                (None, 256)               525312    \n",
      "_________________________________________________________________\n",
      "dense (Dense)                (None, 256)               65792     \n",
      "_________________________________________________________________\n",
      "dense_1 (Dense)              (None, 10305)             2648385   \n",
      "=================================================================\n",
      "Total params: 4,069,107\n",
      "Trainable params: 4,069,107\n",
      "Non-trainable params: 0\n",
      "_________________________________________________________________\n"
     ]
    }
   ],
   "source": [
    "\n",
    "\n",
    "# integer encode sequences of words\n",
    "tokenizer = Tokenizer()\n",
    "tokenizer.fit_on_texts(lines)\n",
    "sequences = tokenizer.texts_to_sequences(lines)\n",
    "# vocabulary size\n",
    "vocab_size = len(tokenizer.word_index) + 1\n",
    "\n",
    "# separate into input and output\n",
    "sequences = array(sequences)\n",
    "X, y = sequences[:,:-1], sequences[:,-1]\n",
    "y = to_categorical(y, num_classes=vocab_size)\n",
    "seq_length = X.shape[1]\n",
    "\n",
    "# define model\n",
    "model = Sequential([\n",
    "    Embedding(vocab_size, 50, input_length=seq_length),\n",
    "    LSTM(256, dropout=0.2, recurrent_dropout=0.2, return_sequences=True),\n",
    "    LSTM(256, dropout=0.2, recurrent_dropout=0.2),\n",
    "    Dense(256, activation='relu'),\n",
    "    Dense(vocab_size, activation='softmax')\n",
    "])\n",
    "\n",
    "model.compile(loss='categorical_crossentropy', optimizer='rmsprop')\n",
    "\n",
    "model.summary()"
   ]
  },
  {
   "cell_type": "code",
   "execution_count": 4,
   "metadata": {},
   "outputs": [
    {
     "name": "stdout",
     "output_type": "stream",
     "text": [
      "Train on 148068 samples, validate on 16453 samples\n",
      "Epoch 1/100\n",
      "148068/148068 [==============================] - 144s 973us/sample - loss: 6.7365 - val_loss: 6.6627\n",
      "Epoch 2/100\n",
      "148068/148068 [==============================] - 138s 933us/sample - loss: 6.3868 - val_loss: 6.5295\n",
      "Epoch 3/100\n",
      "148068/148068 [==============================] - 136s 921us/sample - loss: 6.2510 - val_loss: 6.4791\n",
      "Epoch 4/100\n",
      "148068/148068 [==============================] - 137s 925us/sample - loss: 6.1555 - val_loss: 6.3998\n",
      "Epoch 5/100\n",
      "148068/148068 [==============================] - 136s 921us/sample - loss: 6.0805 - val_loss: 6.3704\n",
      "Epoch 6/100\n",
      "148068/148068 [==============================] - 136s 919us/sample - loss: 6.0237 - val_loss: 6.3475\n",
      "Epoch 7/100\n",
      "148068/148068 [==============================] - 136s 921us/sample - loss: 5.9490 - val_loss: 6.3004\n",
      "Epoch 8/100\n",
      "148068/148068 [==============================] - 145s 977us/sample - loss: 5.8745 - val_loss: 6.2634\n",
      "Epoch 9/100\n",
      "148068/148068 [==============================] - 153s 1ms/sample - loss: 5.8414 - val_loss: 6.2911\n",
      "Epoch 10/100\n",
      "148068/148068 [==============================] - 145s 977us/sample - loss: 5.8385 - val_loss: 6.2713\n",
      "Epoch 11/100\n",
      "148068/148068 [==============================] - 140s 949us/sample - loss: 5.8238 - val_loss: 6.3145\n",
      "Epoch 12/100\n",
      "148068/148068 [==============================] - 140s 946us/sample - loss: 5.8965 - val_loss: 6.4402\n",
      "Epoch 13/100\n",
      "148068/148068 [==============================] - 139s 939us/sample - loss: 5.9393 - val_loss: 6.5119\n"
     ]
    }
   ],
   "source": [
    "# early stop callback\n",
    "early_stop = [EarlyStopping(monitor='val_loss', min_delta=0, patience=5, verbose=0, mode='auto')]\n",
    "\n",
    "# fit model\n",
    "model.fit(X, y, batch_size=128, epochs=100, callbacks=early_stop, validation_split=0.1)\n",
    "\n",
    "# save the model to file\n",
    "model.save('models/trump_model.h5')\n",
    "\n",
    "# save the tokenizer\n",
    "dump(tokenizer, open('data/tokenizer.pkl', 'wb'))"
   ]
  }
 ],
 "metadata": {
  "kernelspec": {
   "display_name": "Python 3",
   "language": "python",
   "name": "python3"
  },
  "language_info": {
   "codemirror_mode": {
    "name": "ipython",
    "version": 3
   },
   "file_extension": ".py",
   "mimetype": "text/x-python",
   "name": "python",
   "nbconvert_exporter": "python",
   "pygments_lexer": "ipython3",
   "version": "3.7.7"
  }
 },
 "nbformat": 4,
 "nbformat_minor": 4
}
