{
 "cells": [
  {
   "cell_type": "code",
   "execution_count": 1,
   "metadata": {},
   "outputs": [],
   "source": [
    "from numpy import array\n",
    "from pickle import dump\n",
    "from tensorflow.keras.preprocessing.text import Tokenizer\n",
    "from tensorflow.keras.utils import to_categorical\n",
    "from tensorflow.keras.models import Sequential\n",
    "from tensorflow.keras.layers import Embedding, LSTM, Dense\n",
    "from tensorflow.keras.callbacks import EarlyStopping, ModelCheckpoint"
   ]
  },
  {
   "cell_type": "code",
   "execution_count": 2,
   "metadata": {},
   "outputs": [],
   "source": [
    "# load doc into memory\n",
    "def load_sequences(filename):\n",
    "    # open the file as read only\n",
    "    file = open(filename, 'r')\n",
    "    # read all text\n",
    "    text = file.read()\n",
    "    # close the file\n",
    "    file.close()\n",
    "    return text"
   ]
  },
  {
   "cell_type": "code",
   "execution_count": 3,
   "metadata": {},
   "outputs": [],
   "source": [
    "# load\n",
    "in_filename = 'data/trump_sequences.txt'\n",
    "doc = load_sequences(in_filename)\n",
    "lines = doc.split('\\n')"
   ]
  },
  {
   "cell_type": "code",
   "execution_count": 4,
   "metadata": {},
   "outputs": [
    {
     "name": "stdout",
     "output_type": "stream",
     "text": [
      "Model: \"sequential\"\n",
      "_________________________________________________________________\n",
      "Layer (type)                 Output Shape              Param #   \n",
      "=================================================================\n",
      "embedding (Embedding)        (None, 9, 50)             515250    \n",
      "_________________________________________________________________\n",
      "lstm (LSTM)                  (None, 9, 256)            314368    \n",
      "_________________________________________________________________\n",
      "lstm_1 (LSTM)                (None, 256)               525312    \n",
      "_________________________________________________________________\n",
      "dense (Dense)                (None, 256)               65792     \n",
      "_________________________________________________________________\n",
      "dense_1 (Dense)              (None, 10305)             2648385   \n",
      "=================================================================\n",
      "Total params: 4,069,107\n",
      "Trainable params: 4,069,107\n",
      "Non-trainable params: 0\n",
      "_________________________________________________________________\n"
     ]
    }
   ],
   "source": [
    "# integer encode sequences of words\n",
    "tokenizer = Tokenizer().fit_on_texts(lines)\n",
    "sequences = tokenizer.texts_to_sequences(lines)\n",
    "# vocabulary size\n",
    "vocab_size = len(tokenizer.word_index) + 1\n",
    "\n",
    "# separate into input and output\n",
    "sequences = array(sequences)\n",
    "X, y = sequences[:,:-1], sequences[:,-1]\n",
    "y = to_categorical(y, num_classes=vocab_size)\n",
    "seq_length = X.shape[1]\n",
    "\n",
    "# define model\n",
    "model = Sequential([\n",
    "    Embedding(vocab_size, 50, input_length=seq_length),\n",
    "    LSTM(256, dropout=0.2, recurrent_dropout=0.2, return_sequences=True),\n",
    "    LSTM(256, dropout=0.2, recurrent_dropout=0.2),\n",
    "    Dense(256, activation='relu'),\n",
    "    Dense(vocab_size, activation='softmax')\n",
    "])\n",
    "\n",
    "model.compile(loss='categorical_crossentropy', optimizer='rmsprop')\n",
    "\n",
    "model.summary()"
   ]
  },
  {
   "cell_type": "code",
   "execution_count": 5,
   "metadata": {},
   "outputs": [
    {
     "name": "stdout",
     "output_type": "stream",
     "text": [
      "Train on 148105 samples, validate on 16457 samples\n",
      "Epoch 1/100\n",
      "148105/148105 [==============================] - 37s 251us/sample - loss: 6.7596 - val_loss: 6.6894\n",
      "Epoch 2/100\n",
      "148105/148105 [==============================] - 32s 216us/sample - loss: 6.4081 - val_loss: 6.5897\n",
      "Epoch 3/100\n",
      "148105/148105 [==============================] - 33s 220us/sample - loss: 6.2615 - val_loss: 6.5043\n",
      "Epoch 4/100\n",
      "148105/148105 [==============================] - 32s 217us/sample - loss: 6.1478 - val_loss: 6.3962\n",
      "Epoch 5/100\n",
      "148105/148105 [==============================] - 32s 219us/sample - loss: 6.0660 - val_loss: 6.3699\n",
      "Epoch 6/100\n",
      "148105/148105 [==============================] - 33s 222us/sample - loss: 6.0101 - val_loss: 6.3983\n",
      "Epoch 7/100\n",
      "148105/148105 [==============================] - 33s 224us/sample - loss: 5.9687 - val_loss: 6.3105\n",
      "Epoch 8/100\n",
      "148105/148105 [==============================] - 33s 223us/sample - loss: 5.9265 - val_loss: 6.3181\n",
      "Epoch 9/100\n",
      "148105/148105 [==============================] - 32s 216us/sample - loss: 5.9021 - val_loss: 6.3488\n",
      "Epoch 10/100\n",
      "148105/148105 [==============================] - 33s 224us/sample - loss: 5.8672 - val_loss: 6.2881\n",
      "Epoch 11/100\n",
      "148105/148105 [==============================] - 33s 219us/sample - loss: 5.8313 - val_loss: 6.3620\n",
      "Epoch 12/100\n",
      "148105/148105 [==============================] - 33s 223us/sample - loss: 5.8183 - val_loss: 6.3289\n",
      "Epoch 13/100\n",
      "148105/148105 [==============================] - 33s 222us/sample - loss: 5.7745 - val_loss: 6.2869\n",
      "Epoch 14/100\n",
      "148105/148105 [==============================] - 32s 218us/sample - loss: 5.6867 - val_loss: 6.2363\n",
      "Epoch 15/100\n",
      "148105/148105 [==============================] - 33s 222us/sample - loss: 5.6599 - val_loss: 6.3341\n",
      "Epoch 16/100\n",
      "148105/148105 [==============================] - 32s 219us/sample - loss: 5.7110 - val_loss: 6.4382\n",
      "Epoch 17/100\n",
      "148105/148105 [==============================] - 33s 221us/sample - loss: 5.7031 - val_loss: 6.4035\n"
     ]
    }
   ],
   "source": [
    "# callbacks\n",
    "early_stop = EarlyStopping(monitor='val_loss', min_delta=0, patience=3, verbose=0, mode='auto')\n",
    "model_save = ModelCheckpoint('models/trump_model.h5', save_best_only=True, monitor='val_loss', mode='min')\n",
    "\n",
    "# fit model\n",
    "history = model.fit(X, y, batch_size=128, epochs=100, callbacks=[early_stop, model_save], validation_split=0.1)\n",
    "\n",
    "# save the tokenizer\n",
    "dump(tokenizer, open('data/tokenizer.pkl', 'wb'))"
   ]
  },
  {
   "cell_type": "code",
   "execution_count": 6,
   "metadata": {},
   "outputs": [
    {
     "data": {
      "image/png": "[encoded data removed]",
      "text/plain": [
       "<Figure size 432x288 with 1 Axes>"
      ]
     },
     "metadata": {
      "needs_background": "light"
     },
     "output_type": "display_data"
    }
   ],
   "source": [
    "from matplotlib import pyplot as plt\n",
    "\n",
    "plt.plot(history.history['loss'])\n",
    "plt.plot(history.history['val_loss'])\n",
    "plt.title('WORD-RNN')\n",
    "plt.ylabel('loss')\n",
    "plt.xlabel('epoch')\n",
    "plt.legend(['train', 'val'], loc='upper left')\n",
    "plt.show()"
   ]
  }
 ],
 "metadata": {
  "kernelspec": {
   "display_name": "Python 3",
   "language": "python",
   "name": "python3"
  },
  "language_info": {
   "codemirror_mode": {
    "name": "ipython",
    "version": 3
   },
   "file_extension": ".py",
   "mimetype": "text/x-python",
   "name": "python",
   "nbconvert_exporter": "python",
   "pygments_lexer": "ipython3",
   "version": "3.7.7"
  }
 },
 "nbformat": 4,
 "nbformat_minor": 4
}
