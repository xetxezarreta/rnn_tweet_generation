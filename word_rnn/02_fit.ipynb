{
 "cells": [
  {
   "cell_type": "code",
   "execution_count": 1,
   "metadata": {},
   "outputs": [],
   "source": [
    "from numpy import array\n",
    "from pickle import dump\n",
    "from tensorflow.keras.preprocessing.text import Tokenizer\n",
    "from tensorflow.keras.utils import to_categorical\n",
    "from tensorflow.keras.models import Sequential\n",
    "from tensorflow.keras.layers import Embedding, LSTM, Dense\n",
    "from tensorflow.keras.callbacks import EarlyStopping"
   ]
  },
  {
   "cell_type": "code",
   "execution_count": 2,
   "metadata": {},
   "outputs": [],
   "source": [
    "# load doc into memory\n",
    "def load_sequences(filename):\n",
    "    # open the file as read only\n",
    "    file = open(filename, 'r')\n",
    "    # read all text\n",
    "    text = file.read()\n",
    "    # close the file\n",
    "    file.close()\n",
    "    return text"
   ]
  },
  {
   "cell_type": "code",
   "execution_count": 7,
   "metadata": {},
   "outputs": [
    {
     "name": "stdout",
     "output_type": "stream",
     "text": [
      "Model: \"sequential_2\"\n",
      "_________________________________________________________________\n",
      "Layer (type)                 Output Shape              Param #   \n",
      "=================================================================\n",
      "embedding_2 (Embedding)      (None, 50, 50)            204900    \n",
      "_________________________________________________________________\n",
      "lstm_4 (LSTM)                (None, 50, 512)           1153024   \n",
      "_________________________________________________________________\n",
      "lstm_5 (LSTM)                (None, 512)               2099200   \n",
      "_________________________________________________________________\n",
      "dense_4 (Dense)              (None, 100)               51300     \n",
      "_________________________________________________________________\n",
      "dense_5 (Dense)              (None, 4098)              413898    \n",
      "=================================================================\n",
      "Total params: 3,922,322\n",
      "Trainable params: 3,922,322\n",
      "Non-trainable params: 0\n",
      "_________________________________________________________________\n"
     ]
    }
   ],
   "source": [
    "# load\n",
    "in_filename = 'data/trump_sequences.txt'\n",
    "doc = load_sequences(in_filename)\n",
    "lines = doc.split('\\n')\n",
    "\n",
    "# integer encode sequences of words\n",
    "tokenizer = Tokenizer()\n",
    "tokenizer.fit_on_texts(lines)\n",
    "sequences = tokenizer.texts_to_sequences(lines)\n",
    "# vocabulary size\n",
    "vocab_size = len(tokenizer.word_index) + 1\n",
    "\n",
    "# separate into input and output\n",
    "sequences = array(sequences)\n",
    "X, y = sequences[:,:-1], sequences[:,-1]\n",
    "y = to_categorical(y, num_classes=vocab_size)\n",
    "seq_length = X.shape[1]\n",
    "\n",
    "# define model\n",
    "model = Sequential([\n",
    "    Embedding(vocab_size, 50, input_length=seq_length),\n",
    "    LSTM(512, dropout=0.2, recurrent_dropout=0.2, return_sequences=True),\n",
    "    LSTM(512, dropout=0.2, recurrent_dropout=0.2),\n",
    "    Dense(100, activation='relu'),\n",
    "    Dense(vocab_size, activation='softmax')\n",
    "])\n",
    "\n",
    "model.compile(loss='categorical_crossentropy', optimizer='rmsprop')\n",
    "\n",
    "model.summary()"
   ]
  },
  {
   "cell_type": "code",
   "execution_count": 8,
   "metadata": {},
   "outputs": [
    {
     "name": "stdout",
     "output_type": "stream",
     "text": [
      "Train on 18868 samples, validate on 2097 samples\n",
      "Epoch 1/100\n",
      "18868/18868 [==============================] - 28s 1ms/sample - loss: 6.9263 - val_loss: 6.9068\n",
      "Epoch 2/100\n",
      "18868/18868 [==============================] - 24s 1ms/sample - loss: 6.6776 - val_loss: 6.8960\n",
      "Epoch 3/100\n",
      "18868/18868 [==============================] - 24s 1ms/sample - loss: 6.5802 - val_loss: 6.9441\n",
      "Epoch 4/100\n",
      "18868/18868 [==============================] - 24s 1ms/sample - loss: 6.4439 - val_loss: 6.8714\n",
      "Epoch 5/100\n",
      "18868/18868 [==============================] - 24s 1ms/sample - loss: 6.3094 - val_loss: 6.8160\n",
      "Epoch 6/100\n",
      "18868/18868 [==============================] - 23s 1ms/sample - loss: 6.1977 - val_loss: 6.8560\n",
      "Epoch 7/100\n",
      "18868/18868 [==============================] - 23s 1ms/sample - loss: 6.1054 - val_loss: 6.7885\n",
      "Epoch 8/100\n",
      "18868/18868 [==============================] - 26s 1ms/sample - loss: 6.0168 - val_loss: 6.7838\n",
      "Epoch 9/100\n",
      "18868/18868 [==============================] - 24s 1ms/sample - loss: 5.9347 - val_loss: 6.7804\n",
      "Epoch 10/100\n",
      "18868/18868 [==============================] - 23s 1ms/sample - loss: 5.8564 - val_loss: 6.9477\n",
      "Epoch 11/100\n",
      "18868/18868 [==============================] - 23s 1ms/sample - loss: 5.7884 - val_loss: 6.7508\n",
      "Epoch 12/100\n",
      "18868/18868 [==============================] - 23s 1ms/sample - loss: 5.7253 - val_loss: 6.8609\n",
      "Epoch 13/100\n",
      "18868/18868 [==============================] - 23s 1ms/sample - loss: 5.6663 - val_loss: 6.8427\n",
      "Epoch 14/100\n",
      "18868/18868 [==============================] - 24s 1ms/sample - loss: 5.6159 - val_loss: 6.8171\n",
      "Epoch 15/100\n",
      "18868/18868 [==============================] - 24s 1ms/sample - loss: 5.5704 - val_loss: 6.8784\n",
      "Epoch 16/100\n",
      "18868/18868 [==============================] - 25s 1ms/sample - loss: 5.5282 - val_loss: 6.8883\n"
     ]
    }
   ],
   "source": [
    "# early stop callback\n",
    "early_stop = [EarlyStopping(monitor='val_loss', min_delta=0, patience=5, verbose=0, mode='auto')]\n",
    "\n",
    "# fit model\n",
    "model.fit(X, y, batch_size=128, epochs=100, callbacks=early_stop, validation_split=0.1)\n",
    "\n",
    "# save the model to file\n",
    "model.save('models/trump_model.h5')\n",
    "\n",
    "# save the tokenizer\n",
    "dump(tokenizer, open('data/tokenizer.pkl', 'wb'))"
   ]
  }
 ],
 "metadata": {
  "kernelspec": {
   "display_name": "Python 3",
   "language": "python",
   "name": "python3"
  },
  "language_info": {
   "codemirror_mode": {
    "name": "ipython",
    "version": 3
   },
   "file_extension": ".py",
   "mimetype": "text/x-python",
   "name": "python",
   "nbconvert_exporter": "python",
   "pygments_lexer": "ipython3",
   "version": "3.7.7"
  }
 },
 "nbformat": 4,
 "nbformat_minor": 4
}
